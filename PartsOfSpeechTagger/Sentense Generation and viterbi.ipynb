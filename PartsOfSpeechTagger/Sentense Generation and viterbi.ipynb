{
 "cells": [
  {
   "cell_type": "code",
   "execution_count": 54,
   "metadata": {},
   "outputs": [],
   "source": [
    "import os\n",
    "import random\n",
    "import numpy as np\n",
    "import sys\n",
    "import math\n",
    "np.set_printoptions(threshold=sys.maxsize)"
   ]
  },
  {
   "cell_type": "code",
   "execution_count": 55,
   "metadata": {},
   "outputs": [],
   "source": [
    "trainPath = \"./train\"\n",
    "wordtag = {}\n",
    "tags = {}\n",
    "word_count = {}\n",
    "word_UNK = {}\n",
    "unitag = {}\n",
    "bitag = {}\n",
    "threshold = 5\n",
    "transition_prob = {}\n",
    "emission_prob = {}\n",
    "txt = \"\""
   ]
  },
  {
   "cell_type": "code",
   "execution_count": 56,
   "metadata": {},
   "outputs": [],
   "source": [
    "for f in os.listdir(trainPath):\n",
    "    fp = open(trainPath+\"/\"+f,\"r+\")\n",
    "    txt = txt + fp.read().lower()"
   ]
  },
  {
   "cell_type": "code",
   "execution_count": 57,
   "metadata": {},
   "outputs": [],
   "source": [
    "# txt = \"\tAll/abn framing/nn in/in Hotei/np is/bez one-inch/jj mahogany/nn which/wdt ,/, in/in the/at dressed/vbn state/nn you/ppss buy/vb it/ppo ,/, is/bez about/rb the/at 13/16-inch/jj thickness/nn specified/vbn in/in the/at drawings/nns ./. Therefore/rb ,/, the/at lumber/nn is/bez bought/vbn in/in planks/nns and/cc ripped/vbn to/in size/nn for/in battens/nns ,/, etc./rb ,/, on/in a/at table/nn saw/nn ./. Besides/rb flathead/nn bronze/nn screws/nns ,/, silicon/nn bronze/nn Stronghold/nn-tl nails/nns (/( made/vbn by/in Independent/jj-tl Nail/nn-tl &/cc-tl Packing/nn-tl Co./nn-tl ,/, Bridgewater/np ,/, Mass./np )/) are/ber used/vbn extensively/rb in/in assembly/nn and/cc Weldwood/np resorcinol/nn glue/nn is/bez used/vbn in/in all/abn the/at joints/nns ./.\""
   ]
  },
  {
   "cell_type": "code",
   "execution_count": 77,
   "metadata": {},
   "outputs": [],
   "source": [
    "wordList = txt.replace(\"\\n\\n\\t\", \" <end>/<end> <start>/<start> \").replace(\"\\t\",\"\").replace(\"\\n\",\" \").split()"
   ]
  },
  {
   "cell_type": "code",
   "execution_count": 81,
   "metadata": {},
   "outputs": [],
   "source": [
    "wordList = [word for word in wordList if len(wordList)!= 0]"
   ]
  },
  {
   "cell_type": "code",
   "execution_count": 83,
   "metadata": {},
   "outputs": [],
   "source": [
    "for i in range(1,len(wordList)):\n",
    "    splitTag = wordList[i-1].split(\"/\")\n",
    "    if len(splitTag) > 2:\n",
    "        wt = [None] * 2\n",
    "        wt[0] = (\"/\".join(splitTag[:-1]))\n",
    "        wt[1] = (splitTag[-1])\n",
    "    else:\n",
    "        wt = splitTag\n",
    "    wtTuple = (wt[0],wt[1])\n",
    "    if wtTuple in wordtag:\n",
    "        wordtag[wtTuple] += 1\n",
    "    else:\n",
    "        wordtag[wtTuple] = 1\n",
    "    if wt[0] in word_count:\n",
    "        word_count[wt[0]] += 1\n",
    "    else:\n",
    "        word_count[wt[0]] = 1\n",
    "    if wt[1] in unitag:\n",
    "        unitag[wt[1]] += 1\n",
    "    else:\n",
    "        unitag[wt[1]] = 1\n",
    "    tag2 =  wordList[i].split(\"/\")\n",
    "    if len(tag2) > 2:\n",
    "        t = [None] * 2\n",
    "        t[0] = \"/\".join(tag2[:-1])\n",
    "        t2 = tag2[-1]\n",
    "    else:\n",
    "        t2 = tag2[1]\n",
    "    if (wt[1],t2) in bitag:\n",
    "        bitag[(wt[1],t2)] += 1\n",
    "    else:\n",
    "        bitag[(wt[1],t2)] = 1\n",
    "    if (wt[1]) in tags:\n",
    "        tags[wt[1]] += 1\n",
    "    else:\n",
    "        tags[wt[1]] = 1"
   ]
  },
  {
   "cell_type": "code",
   "execution_count": 84,
   "metadata": {},
   "outputs": [],
   "source": [
    "word_UNK[\"UNK\"] = 0\n",
    "for k,v in word_count.items():\n",
    "    if v <= threshold:\n",
    "        word_UNK['UNK'] += v\n",
    "    else:\n",
    "        word_UNK[k] = v"
   ]
  },
  {
   "cell_type": "code",
   "execution_count": 85,
   "metadata": {},
   "outputs": [],
   "source": [
    "for k,v in transition_prob.items():\n",
    "    if 'vb' in k[1] and k[0] == 'cs':\n",
    "        print(k[0] + \" \" + k[1])"
   ]
  },
  {
   "cell_type": "code",
   "execution_count": 86,
   "metadata": {},
   "outputs": [],
   "source": [
    "for k,v in bitag.items():\n",
    "    transition_prob[k] = float(bitag[k])/unitag[k[0]]"
   ]
  },
  {
   "cell_type": "code",
   "execution_count": 87,
   "metadata": {},
   "outputs": [],
   "source": [
    "for k,v in wordtag.items():\n",
    "    emission_prob[k] = float(v)/unitag[k[1]]"
   ]
  },
  {
   "cell_type": "code",
   "execution_count": 88,
   "metadata": {},
   "outputs": [],
   "source": [
    "def draw_random_tag(tag,n):\n",
    "    nextTagList = [(k,v) for k,v in transition_prob.items() if k[0] == tag]\n",
    "    nextTagList.sort(key=lambda x: x[1],reverse=True)\n",
    "    if(len(nextTagList) >= 3):\n",
    "        return random.choice(nextTagList[:3])\n",
    "    else:\n",
    "        random.choice(nextTagList)"
   ]
  },
  {
   "cell_type": "code",
   "execution_count": 89,
   "metadata": {},
   "outputs": [],
   "source": [
    "def draw_random_word(word,n):\n",
    "    nextWordList = [(k,v) for k,v in emission_prob.items() if k[1] == word]\n",
    "    nextWordList.sort(key=lambda x: x[1],reverse=True)\n",
    "    if len(nextWordList) >= 10:\n",
    "        return random.choice(nextWordList[:10])\n",
    "    else:\n",
    "        return random.choice(nextWordList) "
   ]
  },
  {
   "cell_type": "code",
   "execution_count": 90,
   "metadata": {},
   "outputs": [],
   "source": [
    "def generate_sentence():\n",
    "    text = \"\"\n",
    "    sentenceProb = 0\n",
    "    cur_word = \"<start>\"\n",
    "    cur_tag = \"<start>\"\n",
    "    while True:\n",
    "        next_tag_tuple = draw_random_tag(cur_tag, 1)\n",
    "        next_tag = next_tag_tuple[0][1]\n",
    "\n",
    "        next_word_tuple = draw_random_word(next_tag,1)\n",
    "        cur_tag = next_tag_tuple[0][1]\n",
    "        cur_word = next_word_tuple[0][0]\n",
    "        sentenceProb = next_tag_tuple[1] * next_word_tuple[1]\n",
    "        if cur_word == \"<end>\":\n",
    "            break\n",
    "        text = text + \" \" + cur_word\n",
    "        \n",
    "        \n",
    "    return text[1:],sentenceProb"
   ]
  },
  {
   "cell_type": "code",
   "execution_count": 91,
   "metadata": {},
   "outputs": [
    {
     "data": {
      "text/plain": [
       "(\"`` time into own world by time . a such hands into an members : an things : either state from th' high on year : but no children ; every world : a world [ plus old years . ! th' state [ either american into every american children : no long children ] a high men : at af for such day [ into work to work ] yet ever' great world : the hands : an day ! . ?\",\n",
       " 0.21402086320264993)"
      ]
     },
     "execution_count": 91,
     "metadata": {},
     "output_type": "execute_result"
    }
   ],
   "source": [
    "generate_sentence()"
   ]
  },
  {
   "cell_type": "code",
   "execution_count": 92,
   "metadata": {},
   "outputs": [],
   "source": [
    "def get_transmission_prob(tag1, tag2):\n",
    "    return transition_prob.get((tag1,tag2),0)\n",
    "def get_emission_prob(tag,word):\n",
    "    return emission_prob.get((word,tag),0)"
   ]
  },
  {
   "cell_type": "code",
   "execution_count": 93,
   "metadata": {},
   "outputs": [],
   "source": [
    "def viterbi(tList,tagsList): \n",
    "    N = len(tags)\n",
    "    T = len(tList)\n",
    "    viterbi = np.zeros((N,T))\n",
    "    backpointer = np.zeros((N,T),dtype=int)\n",
    "    for s in range(N): \n",
    "        viterbi[s][0] = get_transmission_prob('<start>',tagsList[s]) * get_emission_prob(tagsList[s],tList[0]) \n",
    "        backpointer[s][0] = 0\n",
    "    for t in range(1,T):\n",
    "        for s in range(N):\n",
    "            viterbi[s][t] = max(viterbi[s_prime][t-1] * get_transmission_prob(tagsList[s_prime],tagsList[s]) * get_emission_prob(tagsList[s],tList[t]) \n",
    "                            for s_prime in range(N))\n",
    "            backpointer[s][t] = np.argmax([viterbi[s_prime][t-1] * get_transmission_prob(tagsList[s_prime],tagsList[s]) * get_emission_prob(tagsList[s],tList[t])\n",
    "                                           for s_prime in range(N)])\n",
    "    bestpathpointer = np.argmax(viterbi[:,-1])\n",
    "    bestpathprob = max(viterbi[:,-1])\n",
    "    bestpathtag = []\n",
    "    for t in range(T-1,-1,-1):\n",
    "        bestpathtag.insert(0, (tList[t],tagsList[bestpathpointer]))\n",
    "        bestpathpointer = backpointer[bestpathpointer][t]\n",
    "\n",
    "    return bestpathtag"
   ]
  },
  {
   "cell_type": "code",
   "execution_count": null,
   "metadata": {},
   "outputs": [
    {
     "name": "stdout",
     "output_type": "stream",
     "text": [
      "Tagging....sentence\n"
     ]
    }
   ],
   "source": [
    "tagsList = [tag for tag in tags]\n",
    "f = open(\"./Test_File.txt\")\n",
    "test_data_caps = f.read()\n",
    "sentences = test_data_caps.split(\"< EOS >\\n\")\n",
    "f = open(\"testPOS_res.txt\",\"a+\")\n",
    "# for sentence in sentences:\n",
    "sentence = sentences[2]\n",
    "print(\"Tagging....sentence\")\n",
    "result = \"\"\n",
    "words = sentence.split(\"\\n\")\n",
    "sentenceTag = words[0]\n",
    "words_lower = list(filter(lambda x: len(x) != 0,[word.lower() for word in words[1:]]))\n",
    "tag_res = viterbi(words_lower,tagsList)\n",
    "polo = zip(words[1:],[wordtag[1] for wordtag in tag_res])\n",
    "result = sentenceTag + \"\\n\" + \"\\n\".join([w[0]+\"/\"+w[1] for w in polo])\n",
    "result = result + \"\\n< EOS >\\n\"\n",
    "print(result)\n",
    "# f.write(result)\n",
    "# f.close()"
   ]
  },
  {
   "cell_type": "code",
   "execution_count": null,
   "metadata": {},
   "outputs": [],
   "source": []
  }
 ],
 "metadata": {
  "kernelspec": {
   "display_name": "Python 3",
   "language": "python",
   "name": "python3"
  },
  "language_info": {
   "codemirror_mode": {
    "name": "ipython",
    "version": 3
   },
   "file_extension": ".py",
   "mimetype": "text/x-python",
   "name": "python",
   "nbconvert_exporter": "python",
   "pygments_lexer": "ipython3",
   "version": "3.7.4"
  }
 },
 "nbformat": 4,
 "nbformat_minor": 2
}
