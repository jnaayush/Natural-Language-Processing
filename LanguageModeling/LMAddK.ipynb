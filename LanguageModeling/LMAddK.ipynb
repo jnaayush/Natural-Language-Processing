{
 "cells": [
  {
   "cell_type": "code",
   "execution_count": 9,
   "metadata": {},
   "outputs": [],
   "source": [
    "import os\n",
    "import json\n",
    "import math"
   ]
  },
  {
   "cell_type": "code",
   "execution_count": 52,
   "metadata": {},
   "outputs": [],
   "source": [
    "trainPath = \"./Processed_text\"\n",
    "testPath = \"./test\"\n",
    "fileExtension = \".txt\"\n",
    "outPathText = \"./LM_addK\"\n",
    "outPathJson = \"./Output\"\n",
    "word_count = {}\n",
    "unigram_count = {}\n",
    "bigram_count = {}\n",
    "trigram_count = {}\n",
    "V = 0\n",
    "K = 0.1"
   ]
  },
  {
   "cell_type": "code",
   "execution_count": 53,
   "metadata": {},
   "outputs": [],
   "source": [
    "def createUnigrams(wordList,outDict):\n",
    "    for i in range(0, len(wordList)):\n",
    "        unigram = wordList[i]\n",
    "        if unigram in outDict:\n",
    "            outDict[unigram] = outDict[unigram] + 1\n",
    "        else:\n",
    "            outDict[unigram] = 1"
   ]
  },
  {
   "cell_type": "code",
   "execution_count": 54,
   "metadata": {},
   "outputs": [],
   "source": [
    "def createBigrams(wordList,outDict):\n",
    "    for i in range(0, len(wordList) - 1, 2):\n",
    "        bigram = wordList[i] + \" \" + wordList[i + 1]\n",
    "        if bigram in outDict:\n",
    "            outDict[bigram] = outDict[bigram] + 1\n",
    "        else:\n",
    "            outDict[bigram] = 1"
   ]
  },
  {
   "cell_type": "code",
   "execution_count": 55,
   "metadata": {},
   "outputs": [],
   "source": [
    "def createTrigrams(wordList,outDict):\n",
    "    for i in range(0, len(wordList) - 2, 3):\n",
    "        trigram = wordList[i] + \" \" + wordList[i + 1] + \" \" + wordList[i+2]\n",
    "        if trigram in outDict:\n",
    "            outDict[trigram] = outDict[trigram] + 1\n",
    "        else:\n",
    "            outDict[trigram] = 1"
   ]
  },
  {
   "cell_type": "code",
   "execution_count": 56,
   "metadata": {},
   "outputs": [],
   "source": [
    "def get_word_count(wordList,outDict):\n",
    "    for word in wordList:\n",
    "        if word in outDict:\n",
    "            outDict[word] = outDict[word] + 1\n",
    "        else:\n",
    "            outDict[word] = 1"
   ]
  },
  {
   "cell_type": "code",
   "execution_count": 57,
   "metadata": {},
   "outputs": [],
   "source": [
    "def get_word_list(path, fileName):\n",
    "    fp = open(path + \"/\" + fileName, \"r+\")\n",
    "    print(\"Getting word count....\" + fileName)\n",
    "    text = fp.read()\n",
    "    text = text.replace(\"\\n\\n\", \" </s> <s> \")\n",
    "    text = text.replace(\".\",\" . \")\n",
    "    text = text.replace(\",\",\" , \")\n",
    "    text = text.replace(\"?\",\" ? \")\n",
    "    text = text.strip().strip()\n",
    "    text = \" \".join(text.split()).lower()\n",
    "    wordList = text.split()\n",
    "    return wordList"
   ]
  },
  {
   "cell_type": "code",
   "execution_count": 2,
   "metadata": {},
   "outputs": [],
   "source": [
    "def process_file_test(wordList):\n",
    "    processed_text = \"\"\n",
    "    for word in wordList:\n",
    "        if word not in unigram_count:\n",
    "            processed_text = processed_text + \"UNK \"\n",
    "        elif unigram_count[word] <= 3:\n",
    "            processed_text = processed_text + \"UNK \"\n",
    "        else:\n",
    "            processed_text = processed_text + word + \" \"\n",
    "    return processed_text"
   ]
  },
  {
   "cell_type": "code",
   "execution_count": 1,
   "metadata": {},
   "outputs": [],
   "source": [
    "def calculate_perplexity(test_text,K):\n",
    "    l1 = lambdas[0]\n",
    "    l2 = lambdas[1]\n",
    "    l3 = lambdas[2]\n",
    "    test_text = test_text.strip()\n",
    "    wordList = test_text.split(\" \")\n",
    "    wordList = filter(lambda x: len(x) != 0, wordList) \n",
    "    totalWords = 0\n",
    "    log_trigram_prob = 0\n",
    "    for i in range(0,len(wordList)-3):\n",
    "        n0 = wordList[i]\n",
    "        n1 = wordList[i+1]\n",
    "        n2 = wordList[i+2]\n",
    "        if n1 + \" \" + n2 in bigram_count:\n",
    "            bigram_C = float(bigram_count[n1+ \" \" + n2])\n",
    "        else :\n",
    "            bigram_C = 0\n",
    "        if n0 + \" \" + n1 + \" \" + n2 in trigram_count:\n",
    "            trigram_C = float(trigram_count[n0 + \" \" + n1 + \" \" + n2])\n",
    "        else:\n",
    "            trigram_C = 0\n",
    "        log_trigram_prob = log_trigram_prob + math.log((trigram_C+K),2)-math.log(((bigram_C)+K*V),2)\n",
    "        totalWords += 1\n",
    "        log_perplexity = -1 * log_trigram_prob / totalWords\n",
    "    perplexity = math.pow(2,log_perplexity)\n",
    "    print(\"K: \" + str(K) + \" \" + \"Perplexity :\" + str(perplexity))\n",
    "    return perplexity"
   ]
  },
  {
   "cell_type": "code",
   "execution_count": 62,
   "metadata": {},
   "outputs": [
    {
     "name": "stdout",
     "output_type": "stream",
     "text": [
      "Processing......9.txt\n",
      "Processing......8.txt\n",
      "Processing......5.txt\n",
      "Processing......4.txt\n",
      "Processing......6.txt\n",
      "Processing......7.txt\n",
      "Processing......3.txt\n",
      "Processing......2.txt\n",
      "Processing......0.txt\n",
      "Processing......1.txt\n"
     ]
    }
   ],
   "source": [
    "fileList = os.listdir(trainPath)\n",
    "for file in fileList:\n",
    "    if file.endswith(fileExtension):\n",
    "        print(\"Processing......\" + file)\n",
    "        fp = open(trainPath + \"/\" + file, \"r+\")\n",
    "        txt = fp.read()\n",
    "        wordList_UNK = txt.split()\n",
    "        createUnigrams(wordList_UNK,unigram_count)\n",
    "        createBigrams(wordList_UNK,bigram_count)\n",
    "        createTrigrams(wordList_UNK,trigram_count)"
   ]
  },
  {
   "cell_type": "code",
   "execution_count": 63,
   "metadata": {},
   "outputs": [],
   "source": [
    "V = len(unigram_count)"
   ]
  },
  {
   "cell_type": "code",
   "execution_count": 64,
   "metadata": {},
   "outputs": [
    {
     "name": "stdout",
     "output_type": "stream",
     "text": [
      "Testing.......\n",
      "========================\n",
      "Getting word count....test01.txt\n",
      "K: 0.1 Perplexity :2810.98201059\n",
      "File : test01.txt Perplexity: 2810.98201059\n",
      "Getting word count....test02.txt\n",
      "K: 0.1 Perplexity :1560.28672344\n",
      "File : test02.txt Perplexity: 1560.28672344\n"
     ]
    }
   ],
   "source": [
    "print(\"Testing.......\")\n",
    "print(\"========================\")\n",
    "for f in os.listdir(testPath):\n",
    "    test_text = \"\"\n",
    "    if f.endswith(fileExtension):\n",
    "        wordList = get_word_list(testPath,f)\n",
    "        test_text = process_file_test(wordList)\n",
    "    pp = calculate_perplexity(test_text,K)\n",
    "    print(\"File : \" + f + \" Perplexity: \" + str(pp))"
   ]
  },
  {
   "cell_type": "code",
   "execution_count": null,
   "metadata": {},
   "outputs": [],
   "source": []
  },
  {
   "cell_type": "code",
   "execution_count": null,
   "metadata": {},
   "outputs": [],
   "source": []
  }
 ],
 "metadata": {
  "kernelspec": {
   "display_name": "Python 3",
   "language": "python",
   "name": "python3"
  },
  "language_info": {
   "codemirror_mode": {
    "name": "ipython",
    "version": 3
   },
   "file_extension": ".py",
   "mimetype": "text/x-python",
   "name": "python",
   "nbconvert_exporter": "python",
   "pygments_lexer": "ipython3",
   "version": "3.7.4"
  }
 },
 "nbformat": 4,
 "nbformat_minor": 2
}
