{
 "cells": [
  {
   "cell_type": "code",
   "execution_count": 94,
   "metadata": {},
   "outputs": [],
   "source": [
    "import spacy\n",
    "import os\n",
    "nlp = spacy.load(\"en_core_web_sm\")\n",
    "nlp.max_length = 15000000"
   ]
  },
  {
   "cell_type": "code",
   "execution_count": 103,
   "metadata": {},
   "outputs": [],
   "source": [
    "rawText = \"\"\n",
    "i = 160\n",
    "j = 0\n",
    "for file in os.listdir(\"./dataset\"):\n",
    "    if j == i:\n",
    "        f= open(\"./dataset/\" + file);\n",
    "        fileText = f.read()\n",
    "        rawText += fileText\n",
    "        break\n",
    "    j+=1\n",
    "doc = nlp(rawText)"
   ]
  },
  {
   "cell_type": "code",
   "execution_count": 104,
   "metadata": {},
   "outputs": [
    {
     "name": "stdout",
     "output_type": "stream",
     "text": [
      "3\n"
     ]
    }
   ],
   "source": [
    "#Q1.1\n",
    "#Total number of sentences parserd = 78007\n",
    "totalSentences = len([token.dep_ for token in doc if token.dep_ == 'ROOT'])\n",
    "print(totalSentences)"
   ]
  },
  {
   "cell_type": "code",
   "execution_count": 105,
   "metadata": {},
   "outputs": [
    {
     "name": "stdout",
     "output_type": "stream",
     "text": [
      "9\n",
      "{'VBD', 'VB', 'VBZ', 'VBP', 'VBG'}\n"
     ]
    }
   ],
   "source": [
    "listVerbs = [token for token in doc if token.tag_[:2] == \"VB\"]\n",
    "verbSetFine = set(token.tag_ for token in listVerbs)\n",
    "#Q1.2 total number of verbs in the corpus are 191560\n",
    "print(len(listVerbs))\n",
    "# pos that are used to identify the verbs are {'VB', 'VBD', 'VBG', 'VBN', 'VBP', 'VBZ'}\n",
    "print(verbSetFine)"
   ]
  },
  {
   "cell_type": "code",
   "execution_count": 106,
   "metadata": {},
   "outputs": [
    {
     "name": "stdout",
     "output_type": "stream",
     "text": [
      "8\n"
     ]
    }
   ],
   "source": [
    "#Q1.3 Total number of prepositions are 74832\n",
    "listPrep = [token for token in doc if token.dep_ == \"prep\"]\n",
    "print(len(listPrep))"
   ]
  },
  {
   "cell_type": "code",
   "execution_count": 107,
   "metadata": {},
   "outputs": [
    {
     "name": "stdout",
     "output_type": "stream",
     "text": [
      "of 3\n",
      "on 2\n",
      "about 1\n"
     ]
    }
   ],
   "source": [
    "# Top 3 frequent prepositions are : \n",
    "# of 11867\n",
    "# for 10464\n",
    "# in 8846\n",
    "\n",
    "prepCount = {}\n",
    "for token in listPrep:\n",
    "    curCount = prepCount.get(token.text,0)\n",
    "    prepCount[token.text] = curCount+1\n",
    "top_preps = sorted(prepCount.items(), key=lambda kv: kv[1], reverse=True)[:3]\n",
    "for tup in top_preps:\n",
    "    print(tup[0]+ \" \" + str(tup[1]))"
   ]
  },
  {
   "cell_type": "code",
   "execution_count": 108,
   "metadata": {},
   "outputs": [
    {
     "name": "stdout",
     "output_type": "stream",
     "text": [
      "3\n"
     ]
    }
   ],
   "source": [
    "#Q1.4 Total entities detected are : 38741\n",
    "entList = [ent for ent in doc.ents]\n",
    "print(len(entList))"
   ]
  },
  {
   "cell_type": "code",
   "execution_count": 109,
   "metadata": {},
   "outputs": [
    {
     "name": "stdout",
     "output_type": "stream",
     "text": [
      "GPE\n",
      "DATE\n",
      "TIME\n"
     ]
    }
   ],
   "source": [
    "# Unique entity labels are \n",
    "# EVENT\n",
    "# PRODUCT\n",
    "# LANGUAGE\n",
    "# WORK_OF_ART\n",
    "# TIME\n",
    "# CARDINAL\n",
    "# LAW\n",
    "# NORP\n",
    "# LOC\n",
    "# ORDINAL\n",
    "# DATE\n",
    "# PERSON\n",
    "# FAC\n",
    "# GPE\n",
    "# MONEY\n",
    "# QUANTITY\n",
    "# ORG\n",
    "# PERCENT\n",
    "entLabelSet = set(ent.label_ for ent in entList)\n",
    "for label in entLabelSet:\n",
    "    print(label)"
   ]
  }
 ],
 "metadata": {
  "kernelspec": {
   "display_name": "Python 3",
   "language": "python",
   "name": "python3"
  },
  "language_info": {
   "codemirror_mode": {
    "name": "ipython",
    "version": 3
   },
   "file_extension": ".py",
   "mimetype": "text/x-python",
   "name": "python",
   "nbconvert_exporter": "python",
   "pygments_lexer": "ipython3",
   "version": "3.7.4"
  }
 },
 "nbformat": 4,
 "nbformat_minor": 2
}
